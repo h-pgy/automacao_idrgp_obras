{
 "cells": [
  {
   "cell_type": "code",
   "execution_count": 1,
   "id": "8dea47aa-d50c-4705-a9b2-ef944b4c15e1",
   "metadata": {},
   "outputs": [],
   "source": [
    "from core.etl import etl\n",
    "import pandas as pd"
   ]
  },
  {
   "cell_type": "code",
   "execution_count": 2,
   "id": "5edcb3b1-984c-4b7c-8d32-15b47faa66a7",
   "metadata": {
    "scrolled": true
   },
   "outputs": [],
   "source": [
    "df = etl(return_df=True, sample=True)"
   ]
  },
  {
   "cell_type": "code",
   "execution_count": 3,
   "id": "db1eb80e-386d-4c71-8b6d-4b7bbc72c4f2",
   "metadata": {},
   "outputs": [
    {
     "data": {
      "text/plain": [
       "30"
      ]
     },
     "execution_count": 3,
     "metadata": {},
     "output_type": "execute_result"
    }
   ],
   "source": [
    "len(df)"
   ]
  },
  {
   "cell_type": "code",
   "execution_count": 4,
   "id": "fb163453-9518-41d5-af4e-8d8e9590a8d4",
   "metadata": {},
   "outputs": [
    {
     "data": {
      "text/plain": [
       "ORGAO                                                                         object\n",
       "ID                                                                            object\n",
       "INTERVENCAO                                                                   object\n",
       "PDM                                                                           object\n",
       "SUBPREFEITURA                                                                 object\n",
       "ENDERECO                                                                      object\n",
       "TIPO                                                                          object\n",
       "LOGRADOURO                                                                    object\n",
       "NUMERO                                                                        object\n",
       "CEP                                                                           object\n",
       "TIPO_DE_INTERVENCAO                                                           object\n",
       "STATUS                                                                        object\n",
       "DETALHAMENTO                                                                  object\n",
       "DIA_INICIO                                                                    object\n",
       "MES_INICIO                                                                    object\n",
       "ANO_INICO                                                                     object\n",
       "DATA_INICIA                                                                   object\n",
       "DIA_FIM                                                                       object\n",
       "MES_FIM                                                                       object\n",
       "ANO_FIM                                                                       object\n",
       "DATA_FIM                                                                      object\n",
       "DATA_INAUGURACAO                                                              object\n",
       " Custo estimado total do projeto básico/executivo (previsto ou ocorrido)      object\n",
       " Custo estimado total da obra/intervenção (previsto ou ocorrido)              object\n",
       " Custo total Estimado                                                         object\n",
       " Valor Executado até 2022                                                     object\n",
       " Valor Orçado em 2023                                                         object\n",
       " Valor Empenhado em 2023                                                      object\n",
       " Custo Estimado em 2024                                                       object\n",
       " Custo Estimado em 2025 e anos posteriores                                    object\n",
       "DOTACAO                                                                       object\n",
       "CONTRATO                                                                      object\n",
       "PROCESSO                                                                      object\n",
       "OBSERVACAO                                                                    object\n",
       "IDRGP                                                                         object\n",
       "index                                                                          int64\n",
       "empenho_deduplicado                                                          float64\n",
       "liquidado_deduplicado                                                        float64\n",
       "processo_limpo                                                                object\n",
       "dotacao                                                                       object\n",
       "empenho                                                                       object\n",
       "liquidado                                                                     object\n",
       "status                                                                        object\n",
       "log_empenho_deduplicado                                                       object\n",
       "log_liquidado_deduplicado                                                     object\n",
       "dtype: object"
      ]
     },
     "execution_count": 4,
     "metadata": {},
     "output_type": "execute_result"
    }
   ],
   "source": [
    "df.dtypes"
   ]
  },
  {
   "cell_type": "code",
   "execution_count": 5,
   "id": "47375d4c-344e-4663-b486-3afdc9b730b2",
   "metadata": {},
   "outputs": [
    {
     "data": {
      "text/plain": [
       "1250239.634"
      ]
     },
     "execution_count": 5,
     "metadata": {},
     "output_type": "execute_result"
    }
   ],
   "source": [
    "df['empenho_deduplicado'].mean()"
   ]
  },
  {
   "cell_type": "code",
   "execution_count": null,
   "id": "579414fd-7db6-4d0a-aef9-5cc410378dea",
   "metadata": {},
   "outputs": [],
   "source": []
  }
 ],
 "metadata": {
  "kernelspec": {
   "display_name": "Python 3 (ipykernel)",
   "language": "python",
   "name": "python3"
  },
  "language_info": {
   "codemirror_mode": {
    "name": "ipython",
    "version": 3
   },
   "file_extension": ".py",
   "mimetype": "text/x-python",
   "name": "python",
   "nbconvert_exporter": "python",
   "pygments_lexer": "ipython3",
   "version": "3.8.8"
  }
 },
 "nbformat": 4,
 "nbformat_minor": 5
}
